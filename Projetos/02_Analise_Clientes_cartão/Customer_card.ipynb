{
 "cells": [
  {
   "cell_type": "markdown",
   "metadata": {},
   "source": [
    "# <font color='yellow'>Challenge</font>\n",
    "\n",
    "Voce trabalha em uma empresa de cartão de creditos e o diretor da empresa percebeu que o numero\n",
    " de clientes que cancelam seus cartões tem aumentado significativamente, causando prejuizo pra empresa.\n",
    "---> o QUE FAZER para evitar isso ???????\n",
    "---> o que temos: base de dados de clientes atuais e que cancelaram.\n",
    "\n",
    "PASSO A PASSO\n",
    "-> passo 01: Iportar uma base de dados;\n",
    "-> passo 02: Visualizar e tratar essa base de dados\n",
    "-> passo 03: dar uma \"olhada\" na base de dados\n",
    "-> passo 04: Construir uma análise para identificar o motivo, ou principais motivos, dos clientes\n",
    "cancelarem seus cartões"
   ]
  }
 ],
 "metadata": {
  "language_info": {
   "name": "python"
  }
 },
 "nbformat": 4,
 "nbformat_minor": 2
}
