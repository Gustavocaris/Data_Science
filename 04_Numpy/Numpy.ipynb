{
 "cells": [
  {
   "cell_type": "markdown",
   "metadata": {},
   "source": [
    "## Biblioteca 'Numpy'\n",
    "- Ela fornece suporte para arrays multidimensionais (matrizes) e funções matemáticas para manipular esses arrays de forma eficiente. NumPy é uma das bibliotecas mais importantes em Python para análise de dados e computação numérica\n",
    "\n",
    "#### Caracteristicas:\n",
    "- Arrays multidimensionais: NumPy fornece o objeto ndarray, que é uma estrutura de dados eficiente para representar arrays multidimensionais. Esses arrays podem ter qualquer número de dimensões e conter elementos de tipos de dados uniformes.\n",
    "\n",
    "- Funções matemáticas: NumPy inclui um grande conjunto de funções matemáticas para operações em arrays. Isso inclui operações básicas como adição, subtração, multiplicação e divisão, bem como funções trigonométricas, exponenciais, logarítmicas e muito mais.\n",
    "\n",
    "- Indexação avançada: NumPy oferece recursos avançados de indexação e fatiamento de arrays, permitindo acessar e manipular subconjuntos de dados em arrays multidimensionais de forma eficiente.\n",
    "\n",
    "- Broadcasting: NumPy suporta broadcasting, uma poderosa técnica que permite realizar operações entre arrays de diferentes formas e tamanhos, sem a necessidade de criar cópias dos dados.\n",
    "\n",
    "- Integração com outras bibliotecas: NumPy é amplamente utilizado como base para muitas outras bibliotecas em Python, incluindo pandas, SciPy, Matplotlib e muitas outras. Ele fornece uma base sólida para computação numérica em Python.\n"
   ]
  },
  {
   "cell_type": "code",
   "execution_count": 1,
   "metadata": {},
   "outputs": [],
   "source": [
    "import numpy as np"
   ]
  },
  {
   "cell_type": "markdown",
   "metadata": {},
   "source": [
    "## O que é um array?\n",
    "- é uma estrutura de dados fundamental que representa uma coleção de elementos do mesmo tipo, organizados em uma ou mais dimensões\n",
    "- Tipos de arrays:\n",
    "ndarrays -> significam arrays com N dimensões<br>\n",
    "1-D array-> Possui apenas uma dimensão. Será comumente chamado de <b> vetor ou vector </b> <br>\n",
    "2-D array -> Possui 2 dimensões. Será comumente chamado de <b> matriz ou matrix</b> <br>\n",
    "3-D ou Mais array -> Possui 3 ou mais dimensões. Será comumente chamado de <b>tensor</b> \n",
    "                                     "
   ]
  },
  {
   "cell_type": "markdown",
   "metadata": {},
   "source": [
    "### Criando um Array:"
   ]
  },
  {
   "cell_type": "code",
   "execution_count": 2,
   "metadata": {},
   "outputs": [
    {
     "name": "stdout",
     "output_type": "stream",
     "text": [
      "[1 2 3 4 5 6]\n",
      "<class 'numpy.ndarray'>\n"
     ]
    }
   ],
   "source": [
    "# ---> np.array\n",
    "a = np.array([1,2,3,4,5,6])\n",
    "print(a)\n",
    "print(type(a))"
   ]
  },
  {
   "cell_type": "code",
   "execution_count": 3,
   "metadata": {},
   "outputs": [
    {
     "name": "stdout",
     "output_type": "stream",
     "text": [
      "[[[0. 0. 0. 0. 0. 0.]\n",
      "  [0. 0. 0. 0. 0. 0.]\n",
      "  [0. 0. 0. 0. 0. 0.]]\n",
      "\n",
      " [[0. 0. 0. 0. 0. 0.]\n",
      "  [0. 0. 0. 0. 0. 0.]\n",
      "  [0. 0. 0. 0. 0. 0.]]\n",
      "\n",
      " [[0. 0. 0. 0. 0. 0.]\n",
      "  [0. 0. 0. 0. 0. 0.]\n",
      "  [0. 0. 0. 0. 0. 0.]]\n",
      "\n",
      " [[0. 0. 0. 0. 0. 0.]\n",
      "  [0. 0. 0. 0. 0. 0.]\n",
      "  [0. 0. 0. 0. 0. 0.]]\n",
      "\n",
      " [[0. 0. 0. 0. 0. 0.]\n",
      "  [0. 0. 0. 0. 0. 0.]\n",
      "  [0. 0. 0. 0. 0. 0.]]]\n"
     ]
    }
   ],
   "source": [
    "# ---> np.zeros\n",
    "zero_array = np.zeros(shape = (5,3,6))\n",
    "print(zero_array)"
   ]
  },
  {
   "cell_type": "code",
   "execution_count": 4,
   "metadata": {},
   "outputs": [
    {
     "name": "stdout",
     "output_type": "stream",
     "text": [
      "[[1. 1. 1.]\n",
      " [1. 1. 1.]]\n"
     ]
    }
   ],
   "source": [
    "# ---> np.ones() \n",
    "um_array = np.ones((2,3)) # Criar um array de uns, matriz 2,3\n",
    "print(um_array)"
   ]
  },
  {
   "cell_type": "code",
   "execution_count": 5,
   "metadata": {},
   "outputs": [
    {
     "name": "stdout",
     "output_type": "stream",
     "text": [
      "[1.0635808e-311 0.0000000e+000 4.9406565e-324]\n"
     ]
    }
   ],
   "source": [
    "# ---> no.empty() qualquer valor\n",
    "vazio_array = np.empty(3)\n",
    "print(vazio_array)"
   ]
  },
  {
   "cell_type": "code",
   "execution_count": 6,
   "metadata": {},
   "outputs": [
    {
     "name": "stdout",
     "output_type": "stream",
     "text": [
      "[0 2 4 6 8]\n"
     ]
    }
   ],
   "source": [
    "# ---> np.arange() Criar um array com valores espaçados uniformemente\n",
    "# Dá uma sequência de números:\n",
    "arange_array = np.arange(0, 10, 2)  # Cria um array com valores de 0 a 10 (exclusivo) com passo 2\n",
    "print(arange_array)\n"
   ]
  },
  {
   "cell_type": "code",
   "execution_count": 7,
   "metadata": {},
   "outputs": [
    {
     "name": "stdout",
     "output_type": "stream",
     "text": [
      "(array([ 0.,  5., 10., 15., 20., 25., 30., 35., 40., 45., 50., 55., 60.,\n",
      "       65., 70., 75., 80., 85., 90., 95.]), 5.0)\n"
     ]
    }
   ],
   "source": [
    "# ---> np.linspace() Criar um array com valores espaçados uniformemente (especificando o número de elementos)\n",
    "array_linear = np.linspace(0, 100 , num = 20, endpoint = False, retstep = True)\n",
    "print(array_linear)"
   ]
  },
  {
   "cell_type": "code",
   "execution_count": 8,
   "metadata": {},
   "outputs": [
    {
     "name": "stdout",
     "output_type": "stream",
     "text": [
      "[[[0. 0. 0. 0. 0. 0.]\n",
      "  [0. 0. 0. 0. 0. 0.]\n",
      "  [0. 0. 0. 0. 0. 0.]]\n",
      "\n",
      " [[0. 0. 0. 0. 0. 0.]\n",
      "  [0. 0. 0. 0. 0. 0.]\n",
      "  [0. 0. 0. 0. 0. 0.]]\n",
      "\n",
      " [[0. 0. 0. 0. 0. 0.]\n",
      "  [0. 0. 0. 0. 0. 0.]\n",
      "  [0. 0. 0. 0. 0. 0.]]\n",
      "\n",
      " [[0. 0. 0. 0. 0. 0.]\n",
      "  [0. 0. 0. 0. 0. 0.]\n",
      "  [0. 0. 0. 0. 0. 0.]]\n",
      "\n",
      " [[0. 0. 0. 0. 0. 0.]\n",
      "  [0. 0. 0. 0. 0. 0.]\n",
      "  [0. 0. 0. 0. 0. 0.]]]\n"
     ]
    }
   ],
   "source": [
    "zero_array = np.zeros(shape = (5,3,6))\n",
    "print(zero_array)"
   ]
  },
  {
   "cell_type": "code",
   "execution_count": 8,
   "metadata": {},
   "outputs": [
    {
     "name": "stdout",
     "output_type": "stream",
     "text": [
      "(5, 3, 6)\n",
      "90\n",
      "3\n"
     ]
    }
   ],
   "source": [
    "print(zero_array.shape)\n",
    "print(zero_array.size)\n",
    "print(zero_array.ndim)\n",
    "\n",
    "#(5, 3, 6) -> formato, o tamanho de 5 em uma D. de 3 em outra, e 6 em outra dimensão\n",
    "# 90 -> total de 90 dados \n",
    "# 3 -> numero de dimensões, que é 3\n"
   ]
  },
  {
   "cell_type": "markdown",
   "metadata": {},
   "source": [
    "### Transformando um Vetor (1-D) em uma matrix(2-D)\n"
   ]
  },
  {
   "cell_type": "code",
   "execution_count": 9,
   "metadata": {},
   "outputs": [
    {
     "name": "stdout",
     "output_type": "stream",
     "text": [
      "(3,)\n"
     ]
    }
   ],
   "source": [
    "a = np.array( [ 1, 2, 3])\n",
    "print(a.shape)"
   ]
  },
  {
   "cell_type": "code",
   "execution_count": 11,
   "metadata": {},
   "outputs": [
    {
     "name": "stdout",
     "output_type": "stream",
     "text": [
      "(1, 3)\n",
      "[[1 2 3]]\n"
     ]
    }
   ],
   "source": [
    "# ---> np.newaxis, aumentar, criar uma dimensão adicionando um novo eixo ou dimensão a ele\n",
    "a2 = a[np.newaxis,:]\n",
    "print(a2.shape)\n",
    "print(a2)"
   ]
  },
  {
   "cell_type": "code",
   "execution_count": 12,
   "metadata": {},
   "outputs": [
    {
     "name": "stdout",
     "output_type": "stream",
     "text": [
      "(5, 1)\n",
      "[[1]\n",
      " [2]\n",
      " [3]\n",
      " [4]\n",
      " [5]]\n"
     ]
    }
   ],
   "source": [
    "# Suponha que 'a' seja um array unidimensional\n",
    "a = np.array([1, 2, 3, 4, 5])\n",
    "\n",
    "# Aplicar np.newaxis a 'a' usando indexação\n",
    "a2 = a[:, np.newaxis]\n",
    "\n",
    "# Exibir a forma e o conteúdo de 'a2'\n",
    "print(a2.shape)  # Shape do novo array\n",
    "print(a2)        # Conteúdo do novo array"
   ]
  },
  {
   "cell_type": "markdown",
   "metadata": {},
   "source": [
    "### Concatenando arrays:\n"
   ]
  },
  {
   "cell_type": "code",
   "execution_count": 14,
   "metadata": {},
   "outputs": [
    {
     "name": "stdout",
     "output_type": "stream",
     "text": [
      "[1 2 3 4 5 6]\n",
      "[4 5 6 1 2 3]\n"
     ]
    }
   ],
   "source": [
    "a = np.array( [1, 2, 3])\n",
    "b = np.array( [4, 5, 6])\n",
    "\n",
    "c=np.concatenate((a,b))\n",
    "d=np.concatenate((b,a))\n",
    "\n",
    "print(c)\n",
    "print(d)\n"
   ]
  },
  {
   "cell_type": "markdown",
   "metadata": {},
   "source": [
    "### Consultando itens de uma array:"
   ]
  },
  {
   "cell_type": "code",
   "execution_count": 13,
   "metadata": {},
   "outputs": [
    {
     "name": "stdout",
     "output_type": "stream",
     "text": [
      "[[ 1  2  3  4]\n",
      " [ 5  6  7  8]\n",
      " [ 9 10 11 12]]\n",
      "------------\n",
      "[1 2 3 4 5 6 7]\n"
     ]
    }
   ],
   "source": [
    "a = np.array([[1 , 2, 3, 4], [5, 6, 7, 8], [9, 10, 11, 12]])\n",
    "print(a)\n",
    "print('------------') # só pra dar uma separadinha\n",
    "print(a[a<8]) # passar uma logica pra dar uma filtrada e procurar algo especifico"
   ]
  },
  {
   "cell_type": "markdown",
   "metadata": {},
   "source": [
    "### Operações com Arrays:\n"
   ]
  },
  {
   "cell_type": "code",
   "execution_count": 16,
   "metadata": {},
   "outputs": [
    {
     "name": "stdout",
     "output_type": "stream",
     "text": [
      "3\n",
      "1\n",
      "2.0\n",
      "6\n"
     ]
    }
   ],
   "source": [
    "a = np.array( [1, 2, 3])\n",
    "\n",
    "print(a.max())\n",
    "print(a.min())\n",
    "print(a.mean())\n",
    "print(a.sum())\n",
    "# esse o nome ja é bem intuitivo, né"
   ]
  },
  {
   "cell_type": "markdown",
   "metadata": {},
   "source": [
    "### Gerando amostras aleatórias:\n"
   ]
  },
  {
   "cell_type": "code",
   "execution_count": 15,
   "metadata": {},
   "outputs": [],
   "source": [
    "from numpy.random import default_rng\n",
    "# vamos usar um modulo(especificamente o default) dentro da biblioteca, ja vi isso la em Py."
   ]
  },
  {
   "cell_type": "code",
   "execution_count": 17,
   "metadata": {},
   "outputs": [
    {
     "name": "stdout",
     "output_type": "stream",
     "text": [
      "[[7 0 6 5]\n",
      " [7 4 1 7]]\n"
     ]
    }
   ],
   "source": [
    "rng= default_rng() # criar num aleatorios\n",
    "aleatorio = rng.integers(10, size=(2,4)) # integers é para gerar a matriz dos numero inteiros, entre 0 a 10 de tam: 2,4\n",
    "print(aleatorio)"
   ]
  },
  {
   "cell_type": "markdown",
   "metadata": {},
   "source": [
    "## Diferença entre Arrays e Listas:"
   ]
  },
  {
   "cell_type": "code",
   "execution_count": 19,
   "metadata": {},
   "outputs": [
    {
     "name": "stdout",
     "output_type": "stream",
     "text": [
      "Essa é o array 'a': [1 3 4 5 6 5 7 8]\n",
      "Esse é tipo de 'a': <class 'numpy.ndarray'>\n",
      "-------------------------------------\n",
      "Essa é a 'lista_a': [1, 3, 4, 5, 6, 5, 7, 8]\n",
      "Esse é tipo de 'lista_a': <class 'list'>\n"
     ]
    }
   ],
   "source": [
    "a = np.array([1,3,4,5,6,5,7,8])\n",
    "print(\"Essa é o array 'a':\",a)\n",
    "print(\"Esse é tipo de 'a':\",type(a))\n",
    "print('-------------------------------------')\n",
    "lista_a=[1,3,4,5,6,5,7,8]\n",
    "print(\"Essa é a 'lista_a':\", lista_a)\n",
    "print(\"Esse é tipo de 'lista_a':\",type(lista_a))"
   ]
  },
  {
   "cell_type": "code",
   "execution_count": 19,
   "metadata": {},
   "outputs": [
    {
     "name": "stdout",
     "output_type": "stream",
     "text": [
      "['1' 'Gustavo(Futuro Senior)' '2' '3' '4' '5' '6' '7' '8']\n",
      "<class 'numpy.str_'>\n"
     ]
    }
   ],
   "source": [
    "#arrays não permitem tipos de dados distintos:\n",
    "a = np.array([1,'Gustavo(Futuro Senior)',2,3,4,5,6,7,8])\n",
    "print(a)\n",
    "print(type(a[0]))"
   ]
  },
  {
   "cell_type": "code",
   "execution_count": 21,
   "metadata": {},
   "outputs": [
    {
     "name": "stdout",
     "output_type": "stream",
     "text": [
      "['1' 'Gustavo(Futuro Senior)' '2' '3' '4' '5' '6' '7' '8']\n",
      "<class 'int'>\n"
     ]
    }
   ],
   "source": [
    "#já as listas sim:\n",
    "lista_a = [1,'Daniel',2,3,4,5,6,7,8]\n",
    "print(a)\n",
    "print(type(lista_a[0]))"
   ]
  },
  {
   "cell_type": "markdown",
   "metadata": {},
   "source": [
    "## Comparando o processamento:"
   ]
  },
  {
   "cell_type": "code",
   "execution_count": 22,
   "metadata": {},
   "outputs": [],
   "source": [
    "from time import process_time\n",
    "# lista_a = list(rng.integers(10, 100, 10000000))\n",
    "# print(type(lista_a))\n",
    "# lista_b = list(rng.integers(10, 100, 10000000))\n",
    "# c = lista_a * lista_b\n",
    "\n",
    "\n",
    "# GERAR UM ERROR - porlista não permitir essa multiplicação. dava pra transformar em arrays\n",
    "# --->TypeError: can't multiply sequence by non-int of type 'list'"
   ]
  },
  {
   "cell_type": "code",
   "execution_count": 24,
   "metadata": {},
   "outputs": [
    {
     "name": "stdout",
     "output_type": "stream",
     "text": [
      "0.0\n"
     ]
    }
   ],
   "source": [
    "# o tempo necessário para realizar a multiplicação elemento por elemento entre duas listas, lista_a e lista_b, \n",
    "# usando um loop for e a função append() para adicionar os resultados à lista c\n",
    "\n",
    "c=[]\n",
    "t1 = process_time()\n",
    "for i in range(len(lista_a)):\n",
    "    c.append(lista_a[i] * lista_b[i])\n",
    "t2 = process_time()\n",
    "\n",
    "print(t2-t1)\n"
   ]
  },
  {
   "cell_type": "code",
   "execution_count": 26,
   "metadata": {},
   "outputs": [
    {
     "name": "stdout",
     "output_type": "stream",
     "text": [
      "<class 'numpy.ndarray'>\n",
      "[34 15 99 ... 86 46 40]\n",
      "0.078125\n"
     ]
    }
   ],
   "source": [
    "a = rng.integers(10, 100, 10000000)\n",
    "b = rng.integers(10, 100, 10000000)\n",
    "print(type(a))\n",
    "print(a)\n",
    "t1a=process_time()\n",
    "c=a*b\n",
    "t2a=process_time()\n",
    "print(t2a-t1a)"
   ]
  },
  {
   "cell_type": "code",
   "execution_count": 27,
   "metadata": {},
   "outputs": [
    {
     "name": "stderr",
     "output_type": "stream",
     "text": [
      "Matplotlib is building the font cache; this may take a moment.\n"
     ]
    },
    {
     "data": {
      "image/png": "[encoded data removed]",
      "text/plain": [
       "<Figure size 640x480 with 1 Axes>"
      ]
     },
     "metadata": {},
     "output_type": "display_data"
    }
   ],
   "source": [
    "import matplotlib.pyplot as plt\n",
    "\n",
    "dados_x = rng.integers(20, size = 30)\n",
    "dados_y = rng.integers(12, size = 30)\n",
    "\n",
    "plt.scatter(x = dados_x, y = dados_y) # grafico de dispersão\n",
    "plt.show()\n"
   ]
  }
 ],
 "metadata": {
  "kernelspec": {
   "display_name": "Python 3",
   "language": "python",
   "name": "python3"
  },
  "language_info": {
   "codemirror_mode": {
    "name": "ipython",
    "version": 3
   },
   "file_extension": ".py",
   "mimetype": "text/x-python",
   "name": "python",
   "nbconvert_exporter": "python",
   "pygments_lexer": "ipython3",
   "version": "3.12.1"
  }
 },
 "nbformat": 4,
 "nbformat_minor": 4
}
