{
 "cells": [
  {
   "cell_type": "markdown",
   "id": "bcad7a89",
   "metadata": {},
   "source": [
    "# <font color='red'>Árvore de decisão</font>\n",
    "- **Uma árvore de decisão** é uma representação de um conjunto de regras criado para tomar qualquer decisão, nesse caso classificar um registro (para problemas de classificação) ou estimar um valor (para problemas de regressão)\n",
    "- Para cada pergunta da árvore, vamos responder \"SIM\" ou \"NÃO\" e essas respostas vão nos guiar até a decisão final. Cada uma dessas perguntas são chamadas de **nós de decisão** (sendo o primeiro nó chamado de **nó raiz*) e a decisão que vamos tomar é chamado de **nó folha**\n",
    "<br><br>\n"
   ]
  },
  {
   "cell_type": "markdown",
   "id": "d77db743",
   "metadata": {},
   "source": [
    "- A árvore de decisão é uma representação, uma estrutura, e somente a árvore não é Aprendizado de Máquinas. **O que é Machine Learning é a escolha dessas regras para a criação da árvore!**\n",
    "- Existem **diferentes algoritmos** usados para isso, como o ID3, C4.5, C5.0 e CART.\n",
    "    - https://scikit-learn.org/stable/modules/tree.html#tree-algorithms-id3-c4-5-c5-0-and-cart\n",
    "    - O **scikit-learn**, segundo a própria documentação, usa uma **versão otimizada do CART (Classification and Regression Trees)**\n",
    "        - Em resumo, a seleção dos nós é feita escolhendo qual recurso e limite vai **tornar os próximos passos o mais homogêneo possível**\n",
    "- Como podemos criar vários nós para a árvore, é um modelo que facilmente pode sofrer overfitting. **Quanto mais nós e folhas**, maior a complexidade da árvore e **menor sua capacidade de generalizar**"
   ]
  },
  {
   "cell_type": "markdown",
   "id": "a9e6043f",
   "metadata": {},
   "source": [
    "- **iris:**\n",
    "    - https://scikit-learn.org/stable/modules/generated/sklearn.datasets.load_iris.html#sklearn.datasets.load_iris"
   ]
  },
  {
   "cell_type": "markdown",
   "id": "c69441be",
   "metadata": {},
   "source": [
    "- Overfitting - > quando a maquina decora as informação "
   ]
  },
  {
   "cell_type": "code",
   "execution_count": 1,
   "id": "aea31d4c",
   "metadata": {},
   "outputs": [],
   "source": [
    "# Importando o pandas\n",
    "import pandas as pd"
   ]
  },
  {
   "cell_type": "code",
   "execution_count": 2,
   "id": "4c469115",
   "metadata": {},
   "outputs": [],
   "source": [
    "# Importando o dataset iris\n",
    "from sklearn.datasets import load_iris"
   ]
  },
  {
   "cell_type": "code",
   "execution_count": 3,
   "id": "f787ee56",
   "metadata": {},
   "outputs": [],
   "source": [
    "# Retornando os dados\n",
    "data = load_iris()"
   ]
  },
  {
   "cell_type": "code",
   "execution_count": 4,
   "id": "2a7ae944",
   "metadata": {},
   "outputs": [
    {
     "data": {
      "text/html": [
       "<div>\n",
       "<style scoped>\n",
       "    .dataframe tbody tr th:only-of-type {\n",
       "        vertical-align: middle;\n",
       "    }\n",
       "\n",
       "    .dataframe tbody tr th {\n",
       "        vertical-align: top;\n",
       "    }\n",
       "\n",
       "    .dataframe thead th {\n",
       "        text-align: right;\n",
       "    }\n",
       "</style>\n",
       "<table border=\"1\" class=\"dataframe\">\n",
       "  <thead>\n",
       "    <tr style=\"text-align: right;\">\n",
       "      <th></th>\n",
       "      <th>sepal length (cm)</th>\n",
       "      <th>sepal width (cm)</th>\n",
       "      <th>petal length (cm)</th>\n",
       "      <th>petal width (cm)</th>\n",
       "      <th>target</th>\n",
       "    </tr>\n",
       "  </thead>\n",
       "  <tbody>\n",
       "    <tr>\n",
       "      <th>0</th>\n",
       "      <td>5.1</td>\n",
       "      <td>3.5</td>\n",
       "      <td>1.4</td>\n",
       "      <td>0.2</td>\n",
       "      <td>0</td>\n",
       "    </tr>\n",
       "    <tr>\n",
       "      <th>1</th>\n",
       "      <td>4.9</td>\n",
       "      <td>3.0</td>\n",
       "      <td>1.4</td>\n",
       "      <td>0.2</td>\n",
       "      <td>0</td>\n",
       "    </tr>\n",
       "    <tr>\n",
       "      <th>2</th>\n",
       "      <td>4.7</td>\n",
       "      <td>3.2</td>\n",
       "      <td>1.3</td>\n",
       "      <td>0.2</td>\n",
       "      <td>0</td>\n",
       "    </tr>\n",
       "    <tr>\n",
       "      <th>3</th>\n",
       "      <td>4.6</td>\n",
       "      <td>3.1</td>\n",
       "      <td>1.5</td>\n",
       "      <td>0.2</td>\n",
       "      <td>0</td>\n",
       "    </tr>\n",
       "    <tr>\n",
       "      <th>4</th>\n",
       "      <td>5.0</td>\n",
       "      <td>3.6</td>\n",
       "      <td>1.4</td>\n",
       "      <td>0.2</td>\n",
       "      <td>0</td>\n",
       "    </tr>\n",
       "  </tbody>\n",
       "</table>\n",
       "</div>"
      ],
      "text/plain": [
       "   sepal length (cm)  sepal width (cm)  petal length (cm)  petal width (cm)  \\\n",
       "0                5.1               3.5                1.4               0.2   \n",
       "1                4.9               3.0                1.4               0.2   \n",
       "2                4.7               3.2                1.3               0.2   \n",
       "3                4.6               3.1                1.5               0.2   \n",
       "4                5.0               3.6                1.4               0.2   \n",
       "\n",
       "   target  \n",
       "0       0  \n",
       "1       0  \n",
       "2       0  \n",
       "3       0  \n",
       "4       0  "
      ]
     },
     "execution_count": 4,
     "metadata": {},
     "output_type": "execute_result"
    }
   ],
   "source": [
    "# Transformando em um DataFrame\n",
    "iris = pd.DataFrame(data.data) # data.data -> me da os valores das colunas\n",
    "iris.columns = data.feature_names # NO meu data set iris eu quero atribuir nomes as colunas\n",
    "iris['target'] = data.target\n",
    "iris.head(5)"
   ]
  },
  {
   "cell_type": "markdown",
   "id": "ba5f6eca",
   "metadata": {},
   "source": [
    "<a id='ajuste_base'></a>\n",
    "- **Começando apenas com o target 0 e 1 e apenas as colunas de pétala**"
   ]
  },
  {
   "cell_type": "code",
   "execution_count": 29,
   "id": "3d68129f",
   "metadata": {},
   "outputs": [],
   "source": [
    "# Selecionando apenas as colunas de pétala e esses targets(0,1)\n",
    "iris1 = iris.loc[iris.target.isin([0,1]), ['petal length (cm)', 'petal width (cm)', 'target']]"
   ]
  },
  {
   "cell_type": "code",
   "execution_count": 30,
   "id": "4ae5eaf3",
   "metadata": {},
   "outputs": [],
   "source": [
    "# Separando X e y\n",
    "X = iris1.drop('target', axis=1)\n",
    "y = iris1.target"
   ]
  },
  {
   "cell_type": "markdown",
   "id": "c0243b10",
   "metadata": {},
   "source": [
    "- Vamos usar o train_test_split para separar em treino e teste. aqui eu só peguei da documentação mesmo ->\n",
    "    - https://scikit-learn.org/stable/modules/generated/sklearn.model_selection.train_test_split.html"
   ]
  },
  {
   "cell_type": "code",
   "execution_count": 31,
   "id": "2f6ab45d",
   "metadata": {},
   "outputs": [],
   "source": [
    "# Fazendo o train_test_split\n",
    "from sklearn.model_selection import train_test_split\n",
    "X_train, X_test, y_train, y_test = train_test_split(X, y, test_size=0.33, random_state=42)"
   ]
  },
  {
   "cell_type": "markdown",
   "id": "742e068d",
   "metadata": {},
   "source": [
    "- **Podemos visualizar graficamente os dados de treino dessa base usando o matplotlib**\n",
    "    - https://matplotlib.org/stable/plot_types/basic/scatter_plot.html#sphx-glr-plot-types-basic-scatter-plot-py"
   ]
  },
  {
   "cell_type": "code",
   "execution_count": 8,
   "id": "7646c862",
   "metadata": {},
   "outputs": [],
   "source": [
    "# Visualizando os dados de treino"
   ]
  },
  {
   "cell_type": "markdown",
   "id": "b0483ad5",
   "metadata": {},
   "source": [
    "- **E então usar a árvore de decisão para classificar esses dados**\n",
    "    - https://scikit-learn.org/stable/modules/tree.html"
   ]
  },
  {
   "cell_type": "code",
   "execution_count": 9,
   "id": "4cf72e09",
   "metadata": {},
   "outputs": [],
   "source": [
    "# Importando a árvore de decisão"
   ]
  },
  {
   "cell_type": "code",
   "execution_count": 10,
   "id": "4931ae33",
   "metadata": {},
   "outputs": [],
   "source": [
    "# Criando o classificador"
   ]
  },
  {
   "cell_type": "code",
   "execution_count": 11,
   "id": "4e6b09a7",
   "metadata": {},
   "outputs": [],
   "source": [
    "# Fazendo o fit com os dados de treino"
   ]
  },
  {
   "cell_type": "code",
   "execution_count": 12,
   "id": "7b6a410e",
   "metadata": {},
   "outputs": [],
   "source": [
    "# Verificando o score"
   ]
  },
  {
   "cell_type": "markdown",
   "id": "926b43b1",
   "metadata": {},
   "source": [
    "- Podemos exibir essa árvore\n",
    "    - https://scikit-learn.org/stable/modules/generated/sklearn.tree.plot_tree.html?highlight=plot_tree#sklearn.tree.plot_tree"
   ]
  },
  {
   "cell_type": "code",
   "execution_count": 13,
   "id": "2dbfc3bc",
   "metadata": {},
   "outputs": [],
   "source": [
    "# Visualizando essa árvore"
   ]
  },
  {
   "cell_type": "code",
   "execution_count": 14,
   "id": "b47d7b37",
   "metadata": {},
   "outputs": [],
   "source": [
    "# Podemos adicionar essas regras no nosso gráfico"
   ]
  },
  {
   "cell_type": "code",
   "execution_count": 15,
   "id": "fd32d2c7",
   "metadata": {},
   "outputs": [],
   "source": [
    "# Fazendo a previsão e avaliando o erro"
   ]
  },
  {
   "cell_type": "code",
   "execution_count": 16,
   "id": "1eb47d50",
   "metadata": {},
   "outputs": [],
   "source": [
    "# Visualizando esses dados de teste no gráfico acima"
   ]
  },
  {
   "cell_type": "markdown",
   "id": "459deec7",
   "metadata": {},
   "source": [
    "- **Podemos [voltar](#ajuste_base) no filtro que fizemos da base e agora considerar a todos os targets mas mantendo somente as 2 colunas de pétala**"
   ]
  },
  {
   "cell_type": "markdown",
   "id": "4bbd7e54",
   "metadata": {},
   "source": [
    "- **Podemos então fazer para toda a base**"
   ]
  },
  {
   "cell_type": "code",
   "execution_count": 17,
   "id": "9f2d6c2f",
   "metadata": {},
   "outputs": [],
   "source": [
    "# Separando X e y da base completa"
   ]
  },
  {
   "cell_type": "code",
   "execution_count": 18,
   "id": "03581f7d",
   "metadata": {},
   "outputs": [],
   "source": [
    "# Fazendo o train_test_split"
   ]
  },
  {
   "cell_type": "code",
   "execution_count": 19,
   "id": "67aa2c5b",
   "metadata": {},
   "outputs": [],
   "source": [
    "# Criando o classificador e fazendo o fit"
   ]
  },
  {
   "cell_type": "code",
   "execution_count": 20,
   "id": "dcacec94",
   "metadata": {},
   "outputs": [],
   "source": [
    "# Verificando o score"
   ]
  },
  {
   "cell_type": "code",
   "execution_count": 21,
   "id": "2ef44671",
   "metadata": {},
   "outputs": [],
   "source": [
    "# Visualizando essa árvore"
   ]
  },
  {
   "cell_type": "code",
   "execution_count": 22,
   "id": "77a01520",
   "metadata": {},
   "outputs": [],
   "source": [
    "# Fazendo a previsão"
   ]
  },
  {
   "cell_type": "code",
   "execution_count": 23,
   "id": "a5c103a0",
   "metadata": {},
   "outputs": [],
   "source": [
    "# Avaliando o modelo"
   ]
  }
 ],
 "metadata": {
  "kernelspec": {
   "display_name": "Python 3 (ipykernel)",
   "language": "python",
   "name": "python3"
  },
  "language_info": {
   "codemirror_mode": {
    "name": "ipython",
    "version": 3
   },
   "file_extension": ".py",
   "mimetype": "text/x-python",
   "name": "python",
   "nbconvert_exporter": "python",
   "pygments_lexer": "ipython3",
   "version": "3.12.1"
  }
 },
 "nbformat": 4,
 "nbformat_minor": 5
}
