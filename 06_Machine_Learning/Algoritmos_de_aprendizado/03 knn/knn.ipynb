{
 "cells": [
  {
   "cell_type": "markdown",
   "metadata": {},
   "source": [
    "# O KNN (K-Nearest Neighbors)\n",
    "- Sendo as duas figuras abaixo,\n",
    "<img src=\"https://drive.google.com/uc?id=1zOFK8Juc09PUh_UCqQ84aVC32RaGG5Ix\" style='width: 600px;' />\n",
    "- Podemos nos perguntar: **\"qual seria a cor do ponto vermelho da primeira figura? e da segunda?\"**\n",
    "    - Por qual motivo pensamos que o primeiro ponto é roxo e o segundo é amarelo? Pois vamos supor que se todos os pontos nessa região são de uma cor, existe uma probabilidade muito maior desse novo ponto ser da mesma cor pois eles compartilham as mesmas características\n",
    "- **É exatamente essa a lógica que o KNN utiliza!**\n",
    "    - Sendo um dos algoritmos mais simples, ele utiliza a similaridade entre os **k pontos mais próximos** do dataset para estimar o valor das novas observações\n",
    "    - Todo o processamento é feito no momento da previsão e, por isso, esse aprendizado é chamado de \"aprendizado preguiçoso\" (lazy learning) - isso pode ser muito custoso em datasets maiores e em modelos que precisamos fazer a previsão de forma imediata\n",
    "    - Por padrão, cada ponto possui o mesmo peso na previsão, porém é possível utilizar o hiperparâmetro \"weights\" com o valor \"distance\" para fazer os pontos mais próximos terem mais influência nessa previsão\n",
    "    - Outra forma de utilizar vizinhos mais próximos, é considerar os vizinhos dentro de um raio específico utilizando o **RadiusNeighborsClassifier**\n",
    "- **Atenção: cuidado ao usar o KNN em variáveis com escala muito diferentes!**"
   ]
  },
  {
   "cell_type": "markdown",
   "metadata": {},
   "source": [
    "- **Vamos considerar uma base simplificada**"
   ]
  },
  {
   "cell_type": "code",
   "execution_count": null,
   "metadata": {},
   "outputs": [],
   "source": [
    "# Importando o pandas\n",
    "import pandas as pd"
   ]
  },
  {
   "cell_type": "code",
   "execution_count": null,
   "metadata": {},
   "outputs": [],
   "source": [
    "# Usando a base de dados abaixo\n",
    "dados = {\n",
    "    'A': [1,1.5,2,1.5,-1,-0.5,0,-0.5],\n",
    "    'A2': [-0.5,0,-0.5,-1,1.5,2,1.5,1],\n",
    "    'B': [1,1.5,1,0.5,-1,-0.5,-1,-1.5],\n",
    "    'B2': [-1.5,-1,-0.5,-1,0.5,1,1.5,1],\n",
    "    'y': [1,1,1,1,0,0,0,0],\n",
    "    'y2': [0,0,0,0,1,1,1,1]\n",
    "}\n",
    "\n",
    "dados = pd.DataFrame(dados)"
   ]
  },
  {
   "cell_type": "code",
   "execution_count": null,
   "metadata": {},
   "outputs": [],
   "source": [
    "# E esses dados para fazer a previsão\n",
    "dados_pred = {\n",
    "    'A': [2.5,1.8,0.5,-1,-1],\n",
    "    'B': [2,1,0,0,-1.5],    \n",
    "    'A2': [2.5,1.8,0.5,-1,-1],\n",
    "    'B2': [2,1,0,0,-1.5],     \n",
    "}\n",
    "\n",
    "dados_pred = pd.DataFrame(dados_pred)"
   ]
  },
  {
   "cell_type": "code",
   "execution_count": null,
   "metadata": {},
   "outputs": [],
   "source": [
    "# Podemos visualizar graficamente esses pontos\n",
    "import matplotlib.pyplot as plt\n",
    "\n",
    "fig, ax = plt.subplots()\n",
    "\n",
    "ax.scatter(x=dados.A,\n",
    "           y=dados.B,\n",
    "           c=dados.y,\n",
    "           cmap='viridis')\n",
    "ax.scatter(x=dados_pred.A,\n",
    "           y=dados_pred.B,\n",
    "           c='r',marker='s')\n",
    "\n",
    "plt.show()"
   ]
  },
  {
   "cell_type": "markdown",
   "metadata": {},
   "source": [
    "<a id='KNN'></a>\n",
    "- **Agora vamos utlizar o KNN**\n",
    "    - https://scikit-learn.org/stable/modules/generated/sklearn.neighbors.KNeighborsClassifier.html#sklearn.neighbors.KNeighborsClassifier"
   ]
  },
  {
   "cell_type": "code",
   "execution_count": null,
   "metadata": {},
   "outputs": [],
   "source": [
    "# Importando o KNN"
   ]
  },
  {
   "cell_type": "code",
   "execution_count": null,
   "metadata": {},
   "outputs": [],
   "source": [
    "# Criando o classificador"
   ]
  },
  {
   "cell_type": "code",
   "execution_count": null,
   "metadata": {},
   "outputs": [],
   "source": [
    "# Selecionando os pontos de treino"
   ]
  },
  {
   "cell_type": "code",
   "execution_count": null,
   "metadata": {},
   "outputs": [],
   "source": [
    "# E agora selecionando os dados de teste"
   ]
  },
  {
   "cell_type": "code",
   "execution_count": null,
   "metadata": {},
   "outputs": [],
   "source": [
    "# Podemos fazer o fit com os dados de treino"
   ]
  },
  {
   "cell_type": "code",
   "execution_count": null,
   "metadata": {},
   "outputs": [],
   "source": [
    "# E a previsão para os dados de teste"
   ]
  },
  {
   "cell_type": "code",
   "execution_count": null,
   "metadata": {},
   "outputs": [],
   "source": [
    "# Podemos incluir nos dados de treino, a visualização dos dados de teste"
   ]
  },
  {
   "cell_type": "markdown",
   "metadata": {},
   "source": [
    "- **Importante**:\n",
    "    - \"Aviso: Em relação aos algoritmos dos vizinhos mais próximos, se dois vizinhos tiverem distâncias idênticas, mas rótulos diferentes, o resultado dependerá da ordenação dos dados de treinamento.\""
   ]
  },
  {
   "cell_type": "code",
   "execution_count": null,
   "metadata": {},
   "outputs": [],
   "source": [
    "# Podemos visualizar os dados que usamos anteriormente"
   ]
  },
  {
   "cell_type": "markdown",
   "metadata": {},
   "source": [
    "- **Agora vamos [voltar](#KNN) e usar os valores A2, B2, ... que mudam a ordem dos dados**"
   ]
  },
  {
   "cell_type": "markdown",
   "metadata": {},
   "source": [
    "### Vamos utilizar o KNN para dados reais\n",
    "- **Novamente utilizando o dataset iris**\n",
    "    - https://scikit-learn.org/stable/modules/generated/sklearn.datasets.load_iris.html#sklearn.datasets.load_iris"
   ]
  },
  {
   "cell_type": "code",
   "execution_count": null,
   "metadata": {},
   "outputs": [],
   "source": [
    "# Importando o dataset e o pandas"
   ]
  },
  {
   "cell_type": "code",
   "execution_count": null,
   "metadata": {},
   "outputs": [],
   "source": [
    "# Retornando os dados"
   ]
  },
  {
   "cell_type": "code",
   "execution_count": null,
   "metadata": {},
   "outputs": [],
   "source": [
    "# Transformando em um DataFrame"
   ]
  },
  {
   "cell_type": "code",
   "execution_count": null,
   "metadata": {},
   "outputs": [],
   "source": [
    "# Visualizando a base"
   ]
  },
  {
   "cell_type": "markdown",
   "metadata": {},
   "source": [
    "- **Para visualizar melhor, vamos fazer apenas com o target 1 e 2 e apenas as colunas de pétala**"
   ]
  },
  {
   "cell_type": "code",
   "execution_count": null,
   "metadata": {},
   "outputs": [],
   "source": [
    "# Selecionando apenas as colunas de pétala"
   ]
  },
  {
   "cell_type": "code",
   "execution_count": null,
   "metadata": {},
   "outputs": [],
   "source": [
    "# Separando X e y"
   ]
  },
  {
   "cell_type": "markdown",
   "metadata": {},
   "source": [
    "- Para separar em treino e teste vamos novamente fazer o train_test_split\n",
    "    - https://scikit-learn.org/stable/modules/generated/sklearn.model_selection.train_test_split.html"
   ]
  },
  {
   "cell_type": "code",
   "execution_count": null,
   "metadata": {},
   "outputs": [],
   "source": [
    "# Fazendo o train_test_split"
   ]
  },
  {
   "cell_type": "code",
   "execution_count": null,
   "metadata": {},
   "outputs": [],
   "source": [
    "# Visualizando os dados de treino\n",
    "import matplotlib.pyplot as plt\n",
    "\n",
    "fig, ax = plt.subplots()\n",
    "\n",
    "ax.scatter(x=X_train['petal width (cm)'],\n",
    "           y=X_train['petal length (cm)'],\n",
    "           c=y_train,\n",
    "           cmap='viridis')\n",
    "\n",
    "ax.set(xlim=(0.9, 2.6), xticks=[1,1.5,2,2.5],\n",
    "       ylim=(3, 7), yticks=[3,4,5,6,7])\n",
    "\n",
    "plt.show()"
   ]
  },
  {
   "cell_type": "markdown",
   "metadata": {},
   "source": [
    "- **Usando o KNN**"
   ]
  },
  {
   "cell_type": "code",
   "execution_count": null,
   "metadata": {},
   "outputs": [],
   "source": [
    "# Importando o KNN"
   ]
  },
  {
   "cell_type": "code",
   "execution_count": null,
   "metadata": {},
   "outputs": [],
   "source": [
    "# Criando o classificador"
   ]
  },
  {
   "cell_type": "code",
   "execution_count": null,
   "metadata": {},
   "outputs": [],
   "source": [
    "# Fazendo o fit com os dados de treino"
   ]
  },
  {
   "cell_type": "code",
   "execution_count": null,
   "metadata": {},
   "outputs": [],
   "source": [
    "# Fazendo a previsão para os dados de teste"
   ]
  },
  {
   "cell_type": "code",
   "execution_count": null,
   "metadata": {},
   "outputs": [],
   "source": [
    "# Verificando a matriz de confusão"
   ]
  },
  {
   "cell_type": "code",
   "execution_count": null,
   "metadata": {},
   "outputs": [],
   "source": [
    "# Podemos agora visualizar os dados de treino e teste"
   ]
  }
 ],
 "metadata": {
  "kernelspec": {
   "display_name": "Python 3",
   "language": "python",
   "name": "python3"
  },
  "language_info": {
   "codemirror_mode": {
    "name": "ipython",
    "version": 3
   },
   "file_extension": ".py",
   "mimetype": "text/x-python",
   "name": "python",
   "nbconvert_exporter": "python",
   "pygments_lexer": "ipython3",
   "version": "3.8.5"
  }
 },
 "nbformat": 4,
 "nbformat_minor": 5
}
