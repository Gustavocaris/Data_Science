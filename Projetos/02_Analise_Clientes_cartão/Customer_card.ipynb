{
 "cells": [
  {
   "cell_type": "markdown",
   "metadata": {},
   "source": [
    "## <font color='yellow'>Challenge</font>\n",
    "\n",
    "- Você atua em uma empresa de cartões de crédito, onde o diretor identificou um aumento expressivo no número de clientes que estão cancelando seus cartões. Esse movimento tem gerado impactos financeiros negativos significativos para a organização, demandando uma análise cuidadosa das causas e a implementação de estratégias para ivestigar o prejuízo.\n",
    "\n",
    "#### <font color='pink'>Entendimento do Problema</font>\n",
    "- O que está acontecendo?\n",
    "- O que o diretor requisitou?\n",
    "- O que fazer para evitar isso?\n",
    "- O que temos:\n",
    "\n",
    "\n",
    " base de dados de clientes atuais e clientes que cancelaram.\n",
    "\n",
    "PASSO A PASSO\n",
    "-> passo 01: Iportar uma base de dados;\n",
    "-> passo 02: Visualizar e tratar essa base de dados\n",
    "-> passo 03: dar uma \"olhada\" na base de dados\n",
    "-> passo 04: Construir uma análise para identificar o motivo, ou principais motivos, dos clientes\n",
    "cancelarem seus cartões"
   ]
  },
  {
   "cell_type": "code",
   "execution_count": 3,
   "metadata": {},
   "outputs": [
    {
     "name": "stdout",
     "output_type": "stream",
     "text": [
      "  Categoria  Idade Sexo  Dependentes           Educação   Estado Civil  \\\n",
      "0   Cliente     45    M            3       Ensino Médio         Casado   \n",
      "1   Cliente     49    F            5    Ensino Superior       Solteiro   \n",
      "2   Cliente     51    M            3    Ensino Superior         Casado   \n",
      "3   Cliente     40    F            4       Ensino Médio  Não informado   \n",
      "4   Cliente     40    M            3  Sem ensino formal         Casado   \n",
      "\n",
      "  Faixa Salarial Anual Categoria Cartão  Meses como Cliente  \\\n",
      "0          $60K - $80K             Blue                  39   \n",
      "1       Less than $40K             Blue                  44   \n",
      "2         $80K - $120K             Blue                  36   \n",
      "3       Less than $40K             Blue                  34   \n",
      "4          $60K - $80K             Blue                  21   \n",
      "\n",
      "   Produtos Contratados  Inatividade 12m  Contatos 12m   Limite  \\\n",
      "0                     5                1             3  12691.0   \n",
      "1                     6                1             2   8256.0   \n",
      "2                     4                1             0   3418.0   \n",
      "3                     3                4             1   3313.0   \n",
      "4                     5                1             0   4716.0   \n",
      "\n",
      "   Limite Consumido  Limite Disponível  Mudanças Transacoes_Q4_Q1  \\\n",
      "0               777            11914.0                     1335.0   \n",
      "1               864             7392.0                     1541.0   \n",
      "2                 0             3418.0                     2594.0   \n",
      "3              2517              796.0                     1405.0   \n",
      "4                 0             4716.0                     2175.0   \n",
      "\n",
      "   Valor Transacoes 12m  Qtde Transacoes 12m  Mudança Qtde Transações_Q4_Q1  \\\n",
      "0                  1144                   42                         1625.0   \n",
      "1                  1291                   33                         3714.0   \n",
      "2                  1887                   20                         2333.0   \n",
      "3                  1171                   20                         2333.0   \n",
      "4                   816                   28                            2.5   \n",
      "\n",
      "   Taxa de Utilização Cartão  \n",
      "0                      0.061  \n",
      "1                      0.105  \n",
      "2                      0.000  \n",
      "3                      0.760  \n",
      "4                      0.000  \n"
     ]
    }
   ],
   "source": [
    "import pandas as pd\n",
    "\n",
    "tabela = pd.read_csv(\"ClientesBanco.csv\", encoding=\"latin1\")\n",
    "tabela = tabela.drop(\"CLIENTNUM\", axis=1) # drop é para excluir um coluna, que ta dificultando um pouco, que nao serve\n",
    "\n",
    "display(tabela)"
   ]
  }
 ],
 "metadata": {
  "kernelspec": {
   "display_name": "Python 3",
   "language": "python",
   "name": "python3"
  },
  "language_info": {
   "codemirror_mode": {
    "name": "ipython",
    "version": 3
   },
   "file_extension": ".py",
   "mimetype": "text/x-python",
   "name": "python",
   "nbconvert_exporter": "python",
   "pygments_lexer": "ipython3",
   "version": "3.12.1"
  }
 },
 "nbformat": 4,
 "nbformat_minor": 2
}
