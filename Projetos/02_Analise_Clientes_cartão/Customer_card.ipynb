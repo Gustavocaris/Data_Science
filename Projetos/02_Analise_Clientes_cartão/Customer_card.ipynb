{
 "cells": [
  {
   "cell_type": "markdown",
   "metadata": {},
   "source": [
    "## <font color='yellow'>Challenge</font>\n",
    "\n",
    "- Você atua em uma empresa de cartões de crédito, onde o diretor identificou um aumento expressivo no número de clientes que estão cancelando seus cartões. Esse movimento tem gerado impactos financeiros negativos significativos para a organização, demandando uma análise cuidadosa das causas e a implementação de estratégias para ivestigar o prejuízo.\n",
    "\n",
    "#### <font color='pink'>Entendimento do Problema</font>\n",
    "- O que está acontecendo?\n",
    "- O que o diretor requisitou?\n",
    "- O que fazer para evitar isso?\n",
    "- O que temos:\n",
    "\n",
    "\n",
    " base de dados de clientes atuais e clientes que cancelaram.\n",
    "\n",
    "PASSO A PASSO\n",
    "-> passo 01: Iportar uma base de dados;\n",
    "-> passo 02: Visualizar e tratar essa base de dados\n",
    "-> passo 03: dar uma \"olhada\" na base de dados\n",
    "-> passo 04: Construir uma análise para identificar o motivo, ou principais motivos, dos clientes\n",
    "cancelarem seus cartões"
   ]
  },
  {
   "cell_type": "code",
   "execution_count": 1,
   "metadata": {},
   "outputs": [],
   "source": [
    "import pandas as pd"
   ]
  }
 ],
 "metadata": {
  "kernelspec": {
   "display_name": "Python 3",
   "language": "python",
   "name": "python3"
  },
  "language_info": {
   "codemirror_mode": {
    "name": "ipython",
    "version": 3
   },
   "file_extension": ".py",
   "mimetype": "text/x-python",
   "name": "python",
   "nbconvert_exporter": "python",
   "pygments_lexer": "ipython3",
   "version": "3.12.1"
  }
 },
 "nbformat": 4,
 "nbformat_minor": 2
}
